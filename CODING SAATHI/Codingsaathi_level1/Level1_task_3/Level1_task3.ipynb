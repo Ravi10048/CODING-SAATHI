{
  "nbformat": 4,
  "nbformat_minor": 0,
  "metadata": {
    "colab": {
      "provenance": []
    },
    "kernelspec": {
      "name": "python3",
      "display_name": "Python 3"
    },
    "language_info": {
      "name": "python"
    }
  },
  "cells": [
    {
      "cell_type": "markdown",
      "source": [
        "#Import Modules"
      ],
      "metadata": {
        "id": "HJKAJDtiml4m"
      }
    },
    {
      "cell_type": "code",
      "source": [
        "import numpy as np\n",
        "import pandas as pd\n",
        "import difflib    # to get closet match if user enter wrong data\n",
        "from sklearn.feature_extraction.text import TfidfVectorizer # used to convert text /string(title,director) into numeric value\n",
        "from sklearn.metrics.pairwise import cosine_similarity # to find the similarity beteen data by using similarity score\n"
      ],
      "metadata": {
        "id": "KudV7CfZm5MI"
      },
      "execution_count": 1,
      "outputs": []
    },
    {
      "cell_type": "markdown",
      "source": [
        "#Loading the dataset"
      ],
      "metadata": {
        "id": "LaxeSg5RnNxc"
      }
    },
    {
      "cell_type": "code",
      "source": [
        "music_data = pd.read_csv('music1.csv')\n",
        "\n",
        "# printing the first 5 rows of the dataframe\n",
        "print(music_data.head())\n",
        "\n",
        "# number of rows and columns in the data frame\n",
        "print(music_data.shape)"
      ],
      "metadata": {
        "colab": {
          "base_uri": "https://localhost:8080/"
        },
        "id": "7jz1IDACnPQi",
        "outputId": "d575e57e-48ce-4aaa-b530-83d50683d7c9"
      },
      "execution_count": 2,
      "outputs": [
        {
          "output_type": "stream",
          "name": "stdout",
          "text": [
            "   index                track_id                 artists  \\\n",
            "0      0  5SuOikwiRyPMVoIQDJUgSV             Gen Hoshino   \n",
            "1      1  4qPNDBW1i3p13qLCt0Ki3A            Ben Woodward   \n",
            "2      2  1iJBSr7s7jYXzM8EGcbK5b  Ingrid Michaelson;ZAYN   \n",
            "3      3  6lfxq3CG4xtTiEg7opyCyx            Kina Grannis   \n",
            "4      4  5vjLSffimiIP26QG5WcN2K        Chord Overstreet   \n",
            "\n",
            "                                          album_name  \\\n",
            "0                                             Comedy   \n",
            "1                                   Ghost (Acoustic)   \n",
            "2                                     To Begin Again   \n",
            "3  Crazy Rich Asians (Original Motion Picture Sou...   \n",
            "4                                            Hold On   \n",
            "\n",
            "                   track_name  popularity  duration_ms  explicit  \\\n",
            "0                      Comedy          73       230666     False   \n",
            "1            Ghost - Acoustic          55       149610     False   \n",
            "2              To Begin Again          57       210826     False   \n",
            "3  Can't Help Falling In Love          71       201933     False   \n",
            "4                     Hold On          82       198853     False   \n",
            "\n",
            "   danceability  energy  ...  loudness  mode  speechiness  acousticness  \\\n",
            "0         0.676  0.4610  ...    -6.746     0       0.1430        0.0322   \n",
            "1         0.420  0.1660  ...   -17.235     1       0.0763        0.9240   \n",
            "2         0.438  0.3590  ...    -9.734     1       0.0557        0.2100   \n",
            "3         0.266  0.0596  ...   -18.515     1       0.0363        0.9050   \n",
            "4         0.618  0.4430  ...    -9.681     1       0.0526        0.4690   \n",
            "\n",
            "   instrumentalness  liveness  valence    tempo  time_signature  track_genre  \n",
            "0          0.000001    0.3580    0.715   87.917               4     acoustic  \n",
            "1          0.000006    0.1010    0.267   77.489               4     acoustic  \n",
            "2          0.000000    0.1170    0.120   76.332               4     acoustic  \n",
            "3          0.000071    0.1320    0.143  181.740               3     acoustic  \n",
            "4          0.000000    0.0829    0.167  119.949               4     acoustic  \n",
            "\n",
            "[5 rows x 21 columns]\n",
            "(10001, 21)\n"
          ]
        }
      ]
    },
    {
      "cell_type": "markdown",
      "source": [
        "#Data Pre-Processing"
      ],
      "metadata": {
        "id": "nUo8yKHynlaY"
      }
    },
    {
      "cell_type": "code",
      "source": [
        "# selecting the relevant features for recommendation  # track_name\n",
        "selected_features = ['track_id','artists','album_name','popularity','duration_ms','danceability','energy','mode','track_genre','liveness']\n",
        "print(selected_features)\n",
        "\n",
        "# replacing the null valuess with null string\n",
        "\n",
        "for feature in selected_features:\n",
        "  music_data[feature] = music_data[feature].fillna('') # filling null value with empty string\n",
        "\n",
        "\n",
        "# combining all the 10 selected features\n",
        "combined_features = music_data['track_id']+' '+music_data['artists']+' '+music_data['album_name']+' '+music_data['track_genre']\n",
        "\n",
        "# music_data['popularity']+' '+music_data['duration_ms']+' '+music_data['danceability']+' '+music_data['energy']+' '+' '+music_data['mode']++' '+music_data['liveness']\n",
        "print(combined_features)\n",
        "\n",
        "#important  converting the text data to feature vectors(numerical value)\n",
        "vectorizer = TfidfVectorizer()\n",
        "feature_vectors = vectorizer.fit_transform(combined_features)\n",
        "print(feature_vectors)\n"
      ],
      "metadata": {
        "colab": {
          "base_uri": "https://localhost:8080/"
        },
        "id": "aZ-uZAOQnsJw",
        "outputId": "c1234b22-414d-4c15-f8e6-60e27073422f"
      },
      "execution_count": 3,
      "outputs": [
        {
          "output_type": "stream",
          "name": "stdout",
          "text": [
            "['track_id', 'artists', 'album_name', 'popularity', 'duration_ms', 'danceability', 'energy', 'mode', 'track_genre', 'liveness']\n",
            "0        5SuOikwiRyPMVoIQDJUgSV Gen Hoshino Comedy acou...\n",
            "1        4qPNDBW1i3p13qLCt0Ki3A Ben Woodward Ghost (Aco...\n",
            "2        1iJBSr7s7jYXzM8EGcbK5b Ingrid Michaelson;ZAYN ...\n",
            "3        6lfxq3CG4xtTiEg7opyCyx Kina Grannis Crazy Rich...\n",
            "4        5vjLSffimiIP26QG5WcN2K Chord Overstreet Hold O...\n",
            "                               ...                        \n",
            "9996     3UFZkGoRoqZD2gp0ayZlM7 Canção & Louvor Profeti...\n",
            "9997     0VYLCqCYrLo2aZ1mcdVDjH Planet Hemp Usuário brazil\n",
            "9998     5BtFkPust4wifo9KOThNGI Cidade Negra;Lulu Santo...\n",
            "9999     3TAxLyCtWcLqPBVE1rtj6k Legião Urbana O Descobr...\n",
            "10000    2hETkH7cOfqmz3LqZDHZf5 Cesária Evora Miss Perf...\n",
            "Length: 10001, dtype: object\n",
            "  (0, 9467)\t0.1827100723394914\n",
            "  (0, 11109)\t0.5285692759555124\n",
            "  (0, 13262)\t0.45157838217602303\n",
            "  (0, 12715)\t0.45157838217602303\n",
            "  (0, 6938)\t0.5285692759555124\n",
            "  (1, 12746)\t0.4289901516701319\n",
            "  (1, 18514)\t0.45609800854156923\n",
            "  (1, 10249)\t0.4032501655320793\n",
            "  (1, 5653)\t0.5489237014915228\n",
            "  (1, 9467)\t0.3794919370864789\n",
            "  (2, 9545)\t0.33940065945240055\n",
            "  (2, 10223)\t0.3860420873699932\n",
            "  (2, 17720)\t0.23759472743757512\n",
            "  (2, 18659)\t0.4445588291313735\n",
            "  (2, 14761)\t0.36086548186931827\n",
            "  (2, 13423)\t0.36086548186931827\n",
            "  (2, 1781)\t0.4445588291313735\n",
            "  (2, 9467)\t0.15367025577284835\n",
            "  (3, 17142)\t0.20912583130487877\n",
            "  (3, 15760)\t0.23893545660048288\n",
            "  (3, 14973)\t0.23568039783973874\n",
            "  (3, 15473)\t0.20912583130487877\n",
            "  (3, 9930)\t0.40641144901745796\n",
            "  (3, 16356)\t0.3768126980822021\n",
            "  (3, 11247)\t0.34721394714694626\n",
            "  :\t:\n",
            "  (9997, 15815)\t0.43871324686756025\n",
            "  (9998, 11332)\t0.37144199132739325\n",
            "  (9998, 16054)\t0.37144199132739325\n",
            "  (9998, 6270)\t0.37144199132739325\n",
            "  (9998, 10983)\t0.33568126904219325\n",
            "  (9998, 14364)\t0.3225495306190833\n",
            "  (9998, 14448)\t0.2815773848392523\n",
            "  (9998, 10515)\t0.1288611057625766\n",
            "  (9998, 14691)\t0.30862932694072276\n",
            "  (9998, 15169)\t0.3015137354234123\n",
            "  (9998, 16626)\t0.2954975885176129\n",
            "  (9999, 4596)\t0.4860811031954973\n",
            "  (9999, 11550)\t0.46537281432829314\n",
            "  (9999, 18054)\t0.3711010470633332\n",
            "  (9999, 14116)\t0.3711010470633332\n",
            "  (9999, 10515)\t0.16863184537705095\n",
            "  (9999, 10506)\t0.40926347181803613\n",
            "  (9999, 11717)\t0.27529628021022334\n",
            "  (10000, 15706)\t0.43141223210538326\n",
            "  (10000, 12197)\t0.43141223210538326\n",
            "  (10000, 10866)\t0.43141223210538326\n",
            "  (10000, 2965)\t0.43141223210538326\n",
            "  (10000, 14834)\t0.3746259610326943\n",
            "  (10000, 15039)\t0.22067005346202268\n",
            "  (10000, 18521)\t0.2578644232630819\n"
          ]
        }
      ]
    },
    {
      "cell_type": "markdown",
      "source": [
        "#Finding the similarity scores using cosine similarity "
      ],
      "metadata": {
        "id": "6aTvrLx2n88f"
      }
    },
    {
      "cell_type": "code",
      "source": [
        "#important getting the similarity scores using cosine similarity is distance metric use to measure how much two string/valuse match\n",
        "similarity = cosine_similarity(feature_vectors)\n",
        "print(similarity) # compare itself to every other\n",
        "print(similarity.shape)"
      ],
      "metadata": {
        "colab": {
          "base_uri": "https://localhost:8080/"
        },
        "id": "aigQZvxaoLqj",
        "outputId": "c05ff420-01d5-42df-bb0b-1a0bc93f0961"
      },
      "execution_count": 4,
      "outputs": [
        {
          "output_type": "stream",
          "name": "stdout",
          "text": [
            "[[1.         0.069337   0.0280771  ... 0.         0.         0.        ]\n",
            " [0.069337   1.         0.05831662 ... 0.         0.         0.        ]\n",
            " [0.0280771  0.05831662 1.         ... 0.         0.         0.        ]\n",
            " ...\n",
            " [0.         0.         0.         ... 1.         0.02173009 0.        ]\n",
            " [0.         0.         0.         ... 0.02173009 1.         0.        ]\n",
            " [0.         0.         0.         ... 0.         0.         1.        ]]\n",
            "(10001, 10001)\n"
          ]
        }
      ]
    },
    {
      "cell_type": "markdown",
      "source": [
        "##Music Recommendation Sytem"
      ],
      "metadata": {
        "id": "jTMWqlXnoV99"
      }
    },
    {
      "cell_type": "code",
      "source": [
        "music_name = input(' Enter your favourite music name : ')\n",
        "#Enter your favourite music name : Can't Help Falling In Love\n",
        "\n",
        "# creating a list with all the music names given in the dataset\n",
        "list_of_all_titles = music_data['track_name'].tolist()\n",
        "# print(list_of_all_titles)\n",
        "\n",
        "#finding the close match for the music name given by the user\n",
        "find_close_match = difflib.get_close_matches(music_name, list_of_all_titles)\n",
        "# print(find_close_match) \n",
        "\n",
        "close_match = find_close_match[0]\n",
        "# print(close_match) # Can't Help Falling In Love\n",
        "\n",
        "\n",
        "# finding the index of the music with title\n",
        "index_of_the_music = music_data[music_data.track_name == close_match]['index'].values[0]\n",
        "# print(index_of_the_music) # this done because we need to find similarity with index no.\n",
        "\n",
        "# getting a list of similar music track\n",
        "similarity_score = list(enumerate(similarity[index_of_the_music])) # enumerate - loop\n",
        "# print(similarity_score)# (index,similarity score)\n",
        "# len(similarity_score)\n",
        "\n",
        "# sorting the music based on their similarity score\n",
        "sorted_similar_musics = sorted(similarity_score, key = lambda x:x[1], reverse = True) # sorting by 2nd value\n",
        "# print(sorted_similar_musics)\n",
        "\n",
        "# print the name of similar musics based on the index\n",
        "\n",
        "if(len(sorted_similar_musics)!=0):\n",
        "  print('\\n Music suggested for you : \\n')\n",
        "\n",
        "  i = 1\n",
        "  for music in sorted_similar_musics:\n",
        "    index = music[0]\n",
        "    title_from_index = music_data[music_data.index==index]['track_name'].values[0]\n",
        "    artist_from_index = music_data[music_data.index==index]['artists'].values[0]\n",
        "    album_from_index = music_data[music_data.index==index]['album_name'].values[0]\n",
        "    if (i<30):\n",
        "      print(i, '.',title_from_index,'-',artist_from_index,'-',album_from_index)\n",
        "      i+=1\n",
        "else:\n",
        "  print(\"No music found ,try again\")      \n"
      ],
      "metadata": {
        "colab": {
          "base_uri": "https://localhost:8080/"
        },
        "id": "9J7ES9rpocTm",
        "outputId": "0c321287-4b45-4147-da0c-65ce7e3289de"
      },
      "execution_count": 7,
      "outputs": [
        {
          "output_type": "stream",
          "name": "stdout",
          "text": [
            " Enter your favourite music name : love me like you do\n",
            "\n",
            " Music suggested for you : \n",
            "\n",
            "1 . Love Me Like You Do - Boyce Avenue - Cover Sessions, Vol. 4\n",
            "2 . Can’t Help Falling in Love - Boyce Avenue - Cover Sessions, Vol. 6\n",
            "3 . In Case You Didn’t Know - Boyce Avenue - Cover Sessions, Vol. 4\n",
            "4 . Beautiful Soul - Boyce Avenue - Cover Sessions, Vol. 4\n",
            "5 . Thinking out Loud - Boyce Avenue - Cover Sessions, Vol. 3\n",
            "6 . Someone You Loved - Boyce Avenue - Cover Sessions, Vol. 6\n",
            "7 . A Thousand Years - Boyce Avenue - Cover Sessions, Vol. 3\n",
            "8 . Hey There Delilah - Boyce Avenue - Cover Sessions, Vol. 6\n",
            "9 . Chasing Cars - Boyce Avenue - Cover Sessions, Vol. 5\n",
            "10 . Hallelujah - Boyce Avenue - Cover Sessions, Vol. 6\n",
            "11 . Just the Way You Are - Boyce Avenue - Cover Sessions, Vol. 2\n",
            "12 . Rise - Boyce Avenue - Cover Sessions, Vol. 4\n",
            "13 . I'll Be There For You (Friends Theme) - Boyce Avenue - Cover Sessions, Vol. 3\n",
            "14 . Someone Like You - Boyce Avenue - Cover Sessions, Vol. 2\n",
            "15 . Scared to Be Lonely - Boyce Avenue - Cover Sessions, Vol. 4\n",
            "16 . Memories - Boyce Avenue - Cover Sessions, Vol. 6\n",
            "17 . Perfect - Boyce Avenue - Cover Sessions, Vol. 4\n",
            "18 . Tears In Heaven - Boyce Avenue - Cover Sessions, Vol. 3\n",
            "19 . Bleeding Love - Boyce Avenue - Cover Sessions, Vol. 5\n",
            "20 . The One That Got Away - Boyce Avenue - Cover Sessions, Vol. 2\n",
            "21 . Fast Car - Boyce Avenue;Kina Grannis - Cover Sessions, Vol. 2\n",
            "22 . Fix You - Boyce Avenue;Tyler Ward - Cover Sessions, Vol. 2\n",
            "23 . Photograph - Boyce Avenue;Bea Miller - Cover Sessions, Vol. 4\n",
            "24 . We Can't Stop - Boyce Avenue;Bea Miller - Cover Sessions, Vol. 3\n",
            "25 . See You Again - Boyce Avenue;Bea Miller - Cover Sessions, Vol. 4\n",
            "26 . Closer - Boyce Avenue;Sarah Hyland - Cover Sessions, Vol. 4\n",
            "27 . Demons - Boyce Avenue;Jennel Garcia - Cover Sessions, Vol. 3\n",
            "28 . Shallow - Boyce Avenue;Jennel Garcia - Cover Sessions, Vol. 5\n",
            "29 . Let Her Go - Boyce Avenue;Hannah Trigwell - Cover Sessions, Vol. 3\n"
          ]
        }
      ]
    }
  ]
}